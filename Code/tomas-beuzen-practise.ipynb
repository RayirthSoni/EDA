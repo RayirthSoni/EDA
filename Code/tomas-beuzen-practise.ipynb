{
 "cells": [
  {
   "cell_type": "markdown",
   "metadata": {},
   "source": [
    "# Python Basics"
   ]
  },
  {
   "cell_type": "code",
   "execution_count": 1,
   "metadata": {},
   "outputs": [],
   "source": [
    "from IPython.core.interactiveshell import InteractiveShell\n",
    "InteractiveShell.ast_node_interactivity = \"all\""
   ]
  },
  {
   "cell_type": "markdown",
   "metadata": {},
   "source": [
    "1. What is 5 to the power of 5?"
   ]
  },
  {
   "cell_type": "code",
   "execution_count": 2,
   "metadata": {},
   "outputs": [
    {
     "data": {
      "text/plain": [
       "3125"
      ]
     },
     "execution_count": 2,
     "metadata": {},
     "output_type": "execute_result"
    }
   ],
   "source": [
    "5 ** 5"
   ]
  },
  {
   "cell_type": "markdown",
   "metadata": {},
   "source": [
    "2. What is the remainder from dividing 73 by 6?"
   ]
  },
  {
   "cell_type": "code",
   "execution_count": 3,
   "metadata": {},
   "outputs": [
    {
     "data": {
      "text/plain": [
       "1"
      ]
     },
     "execution_count": 3,
     "metadata": {},
     "output_type": "execute_result"
    }
   ],
   "source": [
    "73 % 6"
   ]
  },
  {
   "cell_type": "markdown",
   "metadata": {},
   "source": [
    "3. How many times does the whole number 3 go into 123? What is the remainder of dividing 123 by 3?\n"
   ]
  },
  {
   "cell_type": "code",
   "execution_count": 4,
   "metadata": {},
   "outputs": [
    {
     "data": {
      "text/plain": [
       "41"
      ]
     },
     "execution_count": 4,
     "metadata": {},
     "output_type": "execute_result"
    },
    {
     "data": {
      "text/plain": [
       "0"
      ]
     },
     "execution_count": 4,
     "metadata": {},
     "output_type": "execute_result"
    }
   ],
   "source": [
    "123 // 3\n",
    "123 % 3"
   ]
  },
  {
   "cell_type": "markdown",
   "metadata": {},
   "source": [
    "4. Split the following string into a list by splitting on the space character:<br><br>\n",
    " `s = \"MDS is going virtual!\"`"
   ]
  },
  {
   "cell_type": "code",
   "execution_count": 5,
   "metadata": {},
   "outputs": [
    {
     "data": {
      "text/plain": [
       "['MDS', 'is', 'going', 'virtual!']"
      ]
     },
     "execution_count": 5,
     "metadata": {},
     "output_type": "execute_result"
    }
   ],
   "source": [
    "s = \"MDS is going virtual!\"\n",
    "list_s = s.split(' ')\n",
    "list_s"
   ]
  },
  {
   "cell_type": "markdown",
   "metadata": {},
   "source": [
    "5. Given the following variables:<br><br>\n",
    "`thing = \"light\"`<br>\n",
    "`speed = 299792458  # m/s`<br><br>\n",
    "`use f-strings to print`<br>\n",
    "`The speed of light is 2.997925e+08 m/s.`"
   ]
  },
  {
   "cell_type": "code",
   "execution_count": 6,
   "metadata": {},
   "outputs": [
    {
     "name": "stdout",
     "output_type": "stream",
     "text": [
      "The speed of light is 2.997925e+08 m/s\n"
     ]
    }
   ],
   "source": [
    "print(f'The speed of light is {\"{:e}\".format(299792458)} m/s')"
   ]
  },
  {
   "cell_type": "markdown",
   "metadata": {},
   "source": [
    "6. Given this nested list, use indexing to grab the word “MDS”:<br><br>\n",
    "`l = [10, [3, 4], [5, [100, 200, [\"MDS\"]], 23, 11], 1, 7]`\n"
   ]
  },
  {
   "cell_type": "code",
   "execution_count": 7,
   "metadata": {},
   "outputs": [
    {
     "data": {
      "text/plain": [
       "'MDS'"
      ]
     },
     "execution_count": 7,
     "metadata": {},
     "output_type": "execute_result"
    }
   ],
   "source": [
    "l = [10, [3, 4], [5, [100, 200, [\"MDS\"]], 23, 11], 1, 7]\n",
    "l[2][1][2][0]"
   ]
  },
  {
   "cell_type": "markdown",
   "metadata": {},
   "source": [
    "7. Given this nest dictionary grab the word “MDS”:<br><br>"
   ]
  },
  {
   "cell_type": "code",
   "execution_count": 8,
   "metadata": {},
   "outputs": [
    {
     "data": {
      "text/plain": [
       "'MDS'"
      ]
     },
     "execution_count": 8,
     "metadata": {},
     "output_type": "execute_result"
    }
   ],
   "source": [
    "d = {\n",
    "    \"outer\": [\n",
    "        1,\n",
    "        2,\n",
    "        3,\n",
    "        {\"inner\": [\"this\", \"is\", \"inception\", {\"inner_inner\": [1, 2, 3, \"MDS\"]}]},\n",
    "    ]\n",
    "}\n",
    "d['outer'][3]['inner'][3]['inner_inner'][3]"
   ]
  },
  {
   "cell_type": "markdown",
   "metadata": {},
   "source": [
    "8. Why does the following cell return an error?<br><br>\n",
    "`t = (1, 2, 3, 4, 5)`<br>\n",
    "`t[-1] = 6`"
   ]
  },
  {
   "cell_type": "code",
   "execution_count": 9,
   "metadata": {},
   "outputs": [
    {
     "name": "stdout",
     "output_type": "stream",
     "text": [
      "Tuples are Immutable.\n"
     ]
    }
   ],
   "source": [
    "print('Tuples are Immutable.')"
   ]
  },
  {
   "cell_type": "markdown",
   "metadata": {},
   "source": [
    "9. Use string methods to extract the website domain from an email, e.g., from the string \"tomas.beuzen@fakemail.com\", you should extract \"fakemail\".\n"
   ]
  },
  {
   "cell_type": "code",
   "execution_count": 10,
   "metadata": {},
   "outputs": [
    {
     "data": {
      "text/plain": [
       "'fakemail'"
      ]
     },
     "execution_count": 10,
     "metadata": {},
     "output_type": "execute_result"
    }
   ],
   "source": [
    "email = \"tomas.beuzen@fakemail.com\"\n",
    "email.split('@')[1].split('.')[0]"
   ]
  },
  {
   "cell_type": "markdown",
   "metadata": {},
   "source": [
    "10. Given the variable language which contains a string, use if/elif/else to write a program that:\n",
    "- return “I love snakes!” if language is \"python\" (any kind of capitalization)\n",
    "- return “Are you a pirate?” if language is \"R\" (any kind of capitalization)\n",
    "- else return “What is language?” if language is anything else."
   ]
  },
  {
   "cell_type": "code",
   "execution_count": 11,
   "metadata": {},
   "outputs": [
    {
     "name": "stdout",
     "output_type": "stream",
     "text": [
      "I love snakes!\n"
     ]
    }
   ],
   "source": [
    "language = input('Enter language: ')\n",
    "if language.lower() == 'python':\n",
    "    print('I love snakes!')\n",
    "elif language.lower() == 'r':\n",
    "    print('Are you a pirate? ')\n",
    "else:\n",
    "    print('What is language?')"
   ]
  },
  {
   "cell_type": "markdown",
   "metadata": {},
   "source": [
    "# Loops & Functions"
   ]
  },
  {
   "cell_type": "markdown",
   "metadata": {},
   "source": [
    "1. Create a function website() that grabs the website domain from a url string. For example, if your function is passed \"www.google.com\", it should return \"google\"."
   ]
  },
  {
   "cell_type": "code",
   "execution_count": 12,
   "metadata": {},
   "outputs": [
    {
     "data": {
      "text/plain": [
       "'google'"
      ]
     },
     "execution_count": 12,
     "metadata": {},
     "output_type": "execute_result"
    },
    {
     "data": {
      "text/plain": [
       "'abc'"
      ]
     },
     "execution_count": 12,
     "metadata": {},
     "output_type": "execute_result"
    }
   ],
   "source": [
    "def website(url):\n",
    "    return url.split('.')[1]\n",
    "\n",
    "website('www.google.com')\n",
    "website('www.abc.com')"
   ]
  },
  {
   "cell_type": "markdown",
   "metadata": {},
   "source": [
    "2. Create a function divisible(a, b) that accepts two integers (a and b) and returns True if a is divisble by b without a remainder. For example, divisible(10, 3) should return False, while divisible(6, 3) should return True."
   ]
  },
  {
   "cell_type": "code",
   "execution_count": 13,
   "metadata": {},
   "outputs": [
    {
     "data": {
      "text/plain": [
       "False"
      ]
     },
     "execution_count": 13,
     "metadata": {},
     "output_type": "execute_result"
    },
    {
     "data": {
      "text/plain": [
       "True"
      ]
     },
     "execution_count": 13,
     "metadata": {},
     "output_type": "execute_result"
    }
   ],
   "source": [
    "def divisible(a, b):\n",
    "    if a % b == 0:\n",
    "        return True\n",
    "    return False\n",
    "\n",
    "divisible(10, 3)\n",
    "divisible(6, 3)"
   ]
  },
  {
   "cell_type": "markdown",
   "metadata": {},
   "source": [
    "3. Use list comprehension to square every number in the following list of numbers.<br><br>\n",
    "`l = [1, 2, 3, 4, 5, 6, 7, 8, 9]`"
   ]
  },
  {
   "cell_type": "code",
   "execution_count": 14,
   "metadata": {},
   "outputs": [
    {
     "data": {
      "text/plain": [
       "[1, 4, 9, 16, 25, 36, 49, 64, 81]"
      ]
     },
     "execution_count": 14,
     "metadata": {},
     "output_type": "execute_result"
    }
   ],
   "source": [
    "l = [1, 2, 3, 4, 5, 6, 7, 8, 9]\n",
    "\n",
    "l_sq = [number** 2 for number in l]\n",
    "l_sq"
   ]
  },
  {
   "cell_type": "markdown",
   "metadata": {},
   "source": [
    "4. For the following list of names, write a list comprehension that creates a list of only words that start with a capital letter (hint: str.isupper()).<br><br>\n",
    "\n",
    "`names = ['Steve Irwin', 'koala', 'kangaroo', 'Australia', 'Sydney', 'desert']`"
   ]
  },
  {
   "cell_type": "code",
   "execution_count": 15,
   "metadata": {},
   "outputs": [
    {
     "data": {
      "text/plain": [
       "['Steve Irwin', 'Australia', 'Sydney']"
      ]
     },
     "execution_count": 15,
     "metadata": {},
     "output_type": "execute_result"
    }
   ],
   "source": [
    "names = ['Steve Irwin', 'koala', 'kangaroo', 'Australia', 'Sydney', 'desert']\n",
    "upper_case_names = [name for name in names if name[0].isupper()]\n",
    "upper_case_names"
   ]
  },
  {
   "cell_type": "markdown",
   "metadata": {},
   "source": [
    "5. For the following list of keys and vals use dictionary comprehension to create a dictionary of the form {'key-0': 0, 'key-1': 1, etc} (hint: zip() can help you combine two lists into on object to be used for comprehension/looping).<br><br>\n",
    "`keys = [f\"key-{k}\" for k in range(10)]`<br>\n",
    "`vals = range(10)`<br>"
   ]
  },
  {
   "cell_type": "code",
   "execution_count": 16,
   "metadata": {},
   "outputs": [],
   "source": [
    "keys = [f\"key-{k}\" for k in range(10)]\n",
    "vals = range(10)\n"
   ]
  },
  {
   "cell_type": "markdown",
   "metadata": {},
   "source": [
    "6. This question is a little harder. Create a generator function called listgen(n) that yields numbers from 0 to n, in batches of lists of maximum 10 numbers at a time. For example, your function should behave as follows:<br><br>\n",
    "`g = listgen(100)`<br>\n",
    "`next(g)`<br>\n",
    "`[0, 1, 2, 3, 4, 5, 6, 7, 8, 9]`<br>\n",
    "`next(g)`<br>\n",
    "`[10, 11, 12, 13, 14, 15, 16, 17, 18, 19]`<br>\n",
    "`next(g)`<br>\n",
    "`[20, 21, 22, 23, 24, 25, 26, 27, 28, 29]`<br>\n",
    "`etc.`<br>\n",
    "`g = listgen(5)`<br>\n",
    "`next(g)`<br>"
   ]
  },
  {
   "cell_type": "code",
   "execution_count": 17,
   "metadata": {},
   "outputs": [
    {
     "data": {
      "text/plain": [
       "0"
      ]
     },
     "execution_count": 17,
     "metadata": {},
     "output_type": "execute_result"
    }
   ],
   "source": [
    "def listgen(n):\n",
    "    for i in range(n):\n",
    "        yield i\n",
    "\n",
    "g = listgen(100)\n",
    "next(g)"
   ]
  },
  {
   "cell_type": "markdown",
   "metadata": {},
   "source": [
    "7. Write a try/except to catch the error generated from the following code and print “I caught you!”. Make sure you catch the specific error being caused, this is typically better practice than just catching all errors!"
   ]
  },
  {
   "cell_type": "code",
   "execution_count": 18,
   "metadata": {},
   "outputs": [
    {
     "name": "stdout",
     "output_type": "stream",
     "text": [
      "Error: Division by zero.\n"
     ]
    }
   ],
   "source": [
    "try:\n",
    "    5/0\n",
    "except FileNotFoundError:\n",
    "        print(f\"Error: The file '{filename}' was not found.\")\n",
    "except ValueError:\n",
    "    print(\"Error: The file does not contain a valid integer.\")\n",
    "except ZeroDivisionError:\n",
    "    print(\"Error: Division by zero.\")\n",
    "except Exception as e:\n",
    "    print(f\"An unexpected error occurred: {e}\")\n"
   ]
  },
  {
   "cell_type": "markdown",
   "metadata": {},
   "source": [
    "8. Create a function lucky_sum() that takes all the integers a user enters and returns their sum. However, if one of the values is 13 then it does not count towards the sum, nor do any values to its right.\n",
    "\n",
    "For example, your function should behave as follows: <br><br>\n",
    "\n",
    "`lucky_sum(1, 2, 3, 4)`<br>\n",
    "`10`<br>\n",
    "`lucky_sum(1, 13, 3, 4)`<br>\n",
    "`1`<br>\n",
    "`lucky_sum(13)`<br>\n",
    "`0`\n"
   ]
  },
  {
   "cell_type": "code",
   "execution_count": 19,
   "metadata": {},
   "outputs": [
    {
     "data": {
      "text/plain": [
       "10"
      ]
     },
     "execution_count": 19,
     "metadata": {},
     "output_type": "execute_result"
    },
    {
     "data": {
      "text/plain": [
       "1"
      ]
     },
     "execution_count": 19,
     "metadata": {},
     "output_type": "execute_result"
    },
    {
     "data": {
      "text/plain": [
       "0"
      ]
     },
     "execution_count": 19,
     "metadata": {},
     "output_type": "execute_result"
    }
   ],
   "source": [
    "def lucky_sum(*args):\n",
    "    if 13 in args:\n",
    "        return sum(args[:args.index(13)])\n",
    "    return sum(args)\n",
    "\n",
    "lucky_sum(1,2,3,4)\n",
    "lucky_sum(1,13,3,4)\n",
    "lucky_sum(13)"
   ]
  },
  {
   "cell_type": "markdown",
   "metadata": {},
   "source": [
    "# Unit Tests & Classes"
   ]
  },
  {
   "cell_type": "code",
   "execution_count": 20,
   "metadata": {},
   "outputs": [],
   "source": [
    "import math"
   ]
  },
  {
   "cell_type": "markdown",
   "metadata": {},
   "source": [
    "1. The function area() accepts the argument radius and calculates the area of a circle. Write three tests using assert statements for the following conditions:\n",
    "\n",
    "- Assert that area(1) returns a float;\n",
    "- Assert that area(0) returns a value of 0;\n",
    "- Assert that area(5) is approximately equal to 78.5 (hint: math.isclose(..., abs_tol=0.1))"
   ]
  },
  {
   "cell_type": "code",
   "execution_count": 21,
   "metadata": {},
   "outputs": [],
   "source": [
    "def area(radius):\n",
    "    \"\"\"Calculate the area of a circle based on the given radius.\"\"\"\n",
    "    return math.pi * radius ** 2"
   ]
  },
  {
   "cell_type": "code",
   "execution_count": 22,
   "metadata": {},
   "outputs": [],
   "source": [
    "assert isinstance(area(1),float), 'float error'\n",
    "assert area(0) == 0, 'value must be 0'\n",
    "assert math.isclose(area(5),78.5, abs_tol=0.1), 'must be clost to 78.5'"
   ]
  },
  {
   "cell_type": "markdown",
   "metadata": {},
   "source": [
    "2. In the spirit of the EAFP (easier to ask for forgiveness than permission) philosophy. Modify the code of the function area() and add a try/except statement to catch the type error raised by passing a string to area() as shown below:\n"
   ]
  },
  {
   "cell_type": "code",
   "execution_count": 23,
   "metadata": {},
   "outputs": [
    {
     "name": "stdout",
     "output_type": "stream",
     "text": [
      "Error: Radius must be a number.\n"
     ]
    }
   ],
   "source": [
    "def area(radius):\n",
    "    \"\"\"Calculate the area of a circle based on the given radius.\"\"\"\n",
    "    try:\n",
    "        return math.pi * radius ** 2\n",
    "    except TypeError:\n",
    "        print(\"Error: Radius must be a number.\")\n",
    "    except Exception as e:\n",
    "        print(f\"An error occurred: {e}\")\n",
    "\n",
    "area('10')"
   ]
  },
  {
   "cell_type": "markdown",
   "metadata": {},
   "source": [
    "3. In the spirit of the LBYL (look before you leap) philosophy. Modify the code of the function area() and add a conditional if/else statement to make sure that a user has passed a number (int or float) to the area() function. If they pass something else, raise a TypeError."
   ]
  },
  {
   "cell_type": "code",
   "execution_count": 24,
   "metadata": {},
   "outputs": [
    {
     "data": {
      "text/plain": [
       "3.141592653589793"
      ]
     },
     "execution_count": 24,
     "metadata": {},
     "output_type": "execute_result"
    }
   ],
   "source": [
    "def area(radius):\n",
    "    \"\"\"Calculate the area of a circle based on the given radius.\"\"\"\n",
    "    \n",
    "    if isinstance(radius, (int, float)):\n",
    "        return math.pi * radius ** 2\n",
    "    \n",
    "    raise TypeError(\"The radius must be a number.\")\n",
    "\n",
    "area(1)"
   ]
  },
  {
   "cell_type": "markdown",
   "metadata": {},
   "source": [
    "4. For this exercise I want you to create a class called Circle. It should have the following characteristics:\n",
    "\n",
    "It should be initiated with the argument radius and store this as an instance attribute.\n",
    "\n",
    "Have a method area() which calculates the area of the circle.\n",
    "\n",
    "Have a method circumference() which calculates the circumference of the circle.\n",
    "\n",
    "Have the method __str__() which is a special method in Python and controls what is output to the screen when you print() an instance of your class (learn more here). The print() statement should print the string f\"A Circle with radius {self.radius}\".\n",
    "\n",
    "I’ve provided some tests for you to check your class."
   ]
  },
  {
   "cell_type": "code",
   "execution_count": 25,
   "metadata": {},
   "outputs": [
    {
     "data": {
      "text/plain": [
       "78.5"
      ]
     },
     "execution_count": 25,
     "metadata": {},
     "output_type": "execute_result"
    },
    {
     "data": {
      "text/plain": [
       "31.400000000000002"
      ]
     },
     "execution_count": 25,
     "metadata": {},
     "output_type": "execute_result"
    },
    {
     "data": {
      "text/plain": [
       "'A Circle with radius 5'"
      ]
     },
     "execution_count": 25,
     "metadata": {},
     "output_type": "execute_result"
    }
   ],
   "source": [
    "class Circle:\n",
    "    \"\"\"A circle with a radius r.\"\"\"\n",
    "    def __init__(self, radius):\n",
    "        self.radius = radius\n",
    "\n",
    "    def area(self):\n",
    "        \"\"\"Returns the area of the circle.\"\"\"\n",
    "        return 3.14 * self.radius ** 2\n",
    "\n",
    "    def circumference(self):\n",
    "        \"\"\"Returns the circumefrence of the circle.\"\"\"\n",
    "        return 2 * 3.14 * self.radius\n",
    "\n",
    "    def __str__(self):\n",
    "        return f\"A Circle with radius {self.radius}\"\n",
    "    \n",
    "obj = Circle(5)\n",
    "obj.area()\n",
    "obj.circumference()\n",
    "obj.__str__()"
   ]
  },
  {
   "cell_type": "code",
   "execution_count": 26,
   "metadata": {},
   "outputs": [],
   "source": [
    "assert Circle(3).radius == 3, \"Test 1 failed.\"\n",
    "assert math.isclose(Circle(3).area(), 28.3, abs_tol=0.1), \"Test 2 failed.\"\n",
    "assert math.isclose(Circle(3).circumference(), 18.8, abs_tol=0.1), \"Test 3 failed.\"\n",
    "assert Circle(3).__str__() == \"A Circle with radius 3\", \"Test 4 failed.\""
   ]
  },
  {
   "cell_type": "markdown",
   "metadata": {},
   "source": [
    "5. Now, let’s create a new class sphere that inherits from the circle class we created above. It should have the following characteristics:\n",
    "\n",
    "It should be initiated exactly the same as Circle was, with the single argument radius which is stored as an instance attribute.\n",
    "\n",
    "Have a method volume() which calculates the volume of the sphere (43𝜋𝑟3\n",
    ").\n",
    "\n",
    "Outputs the string f\"A Sphere with volume 4.19\" when you call print(Sphere(1)) (hint: recall the __str__() method from the previous question).\n",
    "\n",
    "I’ve provided some tests for you to check your class.\n"
   ]
  },
  {
   "cell_type": "code",
   "execution_count": 27,
   "metadata": {},
   "outputs": [],
   "source": [
    "class Sphere(Circle):\n",
    "    def __init__(self, radius):\n",
    "        self.radius = radius\n",
    "    \n",
    "    def volume(self):\n",
    "        return (4 / 3) * math.pi * self.radius ** 3\n",
    "    \n",
    "    def __str__(self):\n",
    "        return f'A Sphere with volume {self.volume():.2f}'"
   ]
  },
  {
   "cell_type": "code",
   "execution_count": 28,
   "metadata": {},
   "outputs": [],
   "source": [
    "assert Sphere(3).radius == 3, \"Test 1 failed.\"\n",
    "assert math.isclose(Sphere(3).area(), 28.3, abs_tol=0.1), \"Test 2 failed.\"\n",
    "assert math.isclose(Sphere(3).circumference(), 18.8, abs_tol=0.1), \"Test 3 failed.\"\n",
    "assert math.isclose(Sphere(3).volume(), 113.1, abs_tol=0.1), \"Test 3 failed.\"\n",
    "assert Sphere(1).__str__() == \"A Sphere with volume 4.19\", \"Test 4 failed.\""
   ]
  },
  {
   "cell_type": "markdown",
   "metadata": {},
   "source": [
    "6. Now, let’s create a new class sphere that inherits from the circle class we created above. It should have the following characteristics:\n",
    "\n",
    "It should be initiated exactly the same as Circle was, with the single argument radius which is stored as an instance attribute.\n",
    "\n",
    "Have a method volume() which calculates the volume of the sphere (43𝜋𝑟3\n",
    ").\n",
    "\n",
    "Outputs the string f\"A Sphere with volume 4.19\" when you call print(Sphere(1)) (hint: recall the __str__() method from the previous question).\n",
    "\n",
    "I’ve provided some tests for you to check your class.\n"
   ]
  },
  {
   "cell_type": "code",
   "execution_count": 29,
   "metadata": {},
   "outputs": [],
   "source": [
    "class Sphere(Circle):\n",
    "    def __init__(self, radius):\n",
    "        self.radius = radius\n",
    "    \n",
    "    def volume(self):\n",
    "        return (4 / 3) * math.pi * self.radius ** 3\n",
    "    \n",
    "    def __str__(self):\n",
    "        return f'A Sphere with volume {self.volume():.2f}'\n",
    "    \n",
    "    @classmethod\n",
    "    def from_circ(cls, circumfrence):\n",
    "        radius = circumfrence / (2 * math.pi)\n",
    "        return cls(radius)"
   ]
  },
  {
   "cell_type": "code",
   "execution_count": 30,
   "metadata": {},
   "outputs": [],
   "source": [
    "assert Sphere.from_circ(0).radius == 0, \"Test 1 failed.\"\n",
    "assert Sphere.from_circ(3 * math.pi).radius == 1.5, \"Test 2 failed.\" \n",
    "assert math.isclose(Sphere.from_circ(6).radius, 0.95, abs_tol=0.1), \"Test 3 failed.\"\n",
    "assert math.isclose(Sphere.from_circ(6).volume(), 3.65, abs_tol=0.1), \"Test 4 failed.\"\n",
    "assert Sphere.from_circ(6).__str__() == \"A Sphere with volume 3.65\", \"Test 5 failed.\""
   ]
  },
  {
   "cell_type": "markdown",
   "metadata": {},
   "source": [
    "# NUMPY"
   ]
  },
  {
   "cell_type": "markdown",
   "metadata": {},
   "source": [
    "1. Import numpy under the alias np."
   ]
  },
  {
   "cell_type": "code",
   "execution_count": 31,
   "metadata": {},
   "outputs": [],
   "source": [
    "import numpy as np"
   ]
  },
  {
   "cell_type": "markdown",
   "metadata": {},
   "source": [
    "2. Create the following arrays:\n",
    "\n",
    "- Create an array of 5 zeros.\n",
    "- Create an array of 10 ones.\n",
    "- Create an array of 5 3.141s.\n",
    "- Create an array of the integers 1 to 20.\n",
    "- Create a 5 x 5 matrix of ones with a dtype int."
   ]
  },
  {
   "cell_type": "code",
   "execution_count": 44,
   "metadata": {},
   "outputs": [],
   "source": [
    "zero_array = np.zeros((5,))\n",
    "one_array = np.ones((10,))\n",
    "pi_array = np.repeat(3.141, 5)\n",
    "first_20_nums_array = np.arange(1,21)\n",
    "one_matrix = np.ones((5,5),dtype=int)"
   ]
  },
  {
   "cell_type": "markdown",
   "metadata": {},
   "source": [
    "3. Use numpy to:\n",
    "\n",
    "- Create an 3D matrix of 3 x 3 x 3 full of random numbers drawn from a standard normal distribution (hint: np.random.randn())\n",
    "- Reshape the above array into shape (27,)"
   ]
  },
  {
   "cell_type": "code",
   "execution_count": 48,
   "metadata": {},
   "outputs": [
    {
     "data": {
      "text/plain": [
       "array([ 1.85002291,  1.41395193,  0.57573614,  0.15133506,  0.04202688,\n",
       "        0.68507616,  0.20138123,  1.04948221, -3.52739538, -2.02467227,\n",
       "       -0.50225399, -0.70008306,  0.6360949 , -1.96663053,  0.84432891,\n",
       "        0.97376557,  0.71880494,  0.25972306, -0.04173132,  0.69342175,\n",
       "        1.31678744,  0.22489574, -2.55705985,  1.00221273,  0.07722073,\n",
       "        0.08565814,  1.16787152])"
      ]
     },
     "execution_count": 48,
     "metadata": {},
     "output_type": "execute_result"
    }
   ],
   "source": [
    "np.random.randn(3,3,3).reshape(27,)"
   ]
  },
  {
   "cell_type": "markdown",
   "metadata": {},
   "source": [
    "4. Create an array of 20 linearly spaced numbers between 1 and 10."
   ]
  },
  {
   "cell_type": "code",
   "execution_count": 50,
   "metadata": {},
   "outputs": [
    {
     "data": {
      "text/plain": [
       "array([ 1.        ,  1.47368421,  1.94736842,  2.42105263,  2.89473684,\n",
       "        3.36842105,  3.84210526,  4.31578947,  4.78947368,  5.26315789,\n",
       "        5.73684211,  6.21052632,  6.68421053,  7.15789474,  7.63157895,\n",
       "        8.10526316,  8.57894737,  9.05263158,  9.52631579, 10.        ])"
      ]
     },
     "execution_count": 50,
     "metadata": {},
     "output_type": "execute_result"
    }
   ],
   "source": [
    "linspaced_20 = np.linspace(1,10,20)\n",
    "linspaced_20"
   ]
  },
  {
   "cell_type": "markdown",
   "metadata": {},
   "source": [
    "5. Run the following code to create an array of shape 4 x 4 and then use indexing to produce the outputs shown below.<br><br>\n",
    "`import numpy as np`<br>\n",
    "`a = np.arange(1, 26).reshape(5, -1)`<br>"
   ]
  },
  {
   "cell_type": "code",
   "execution_count": 58,
   "metadata": {},
   "outputs": [
    {
     "data": {
      "text/plain": [
       "array([[ 1,  2,  3,  4,  5],\n",
       "       [ 6,  7,  8,  9, 10],\n",
       "       [11, 12, 13, 14, 15],\n",
       "       [16, 17, 18, 19, 20],\n",
       "       [21, 22, 23, 24, 25]])"
      ]
     },
     "execution_count": 58,
     "metadata": {},
     "output_type": "execute_result"
    }
   ],
   "source": [
    "import numpy as np\n",
    "a = np.arange(1, 26).reshape(5, -1)\n",
    "a"
   ]
  },
  {
   "cell_type": "code",
   "execution_count": 59,
   "metadata": {},
   "outputs": [
    {
     "data": {
      "text/plain": [
       "20"
      ]
     },
     "execution_count": 59,
     "metadata": {},
     "output_type": "execute_result"
    }
   ],
   "source": [
    "# 20\n",
    "a[3][-1]"
   ]
  },
  {
   "cell_type": "code",
   "execution_count": 61,
   "metadata": {},
   "outputs": [
    {
     "data": {
      "text/plain": [
       "20"
      ]
     },
     "execution_count": 61,
     "metadata": {},
     "output_type": "execute_result"
    }
   ],
   "source": [
    "a = np.array([[9, 10], [14, 15], [19, 20], [24, 25]])\n",
    "a[2,-1]"
   ]
  },
  {
   "cell_type": "code",
   "execution_count": 72,
   "metadata": {},
   "outputs": [
    {
     "data": {
      "text/plain": [
       "6"
      ]
     },
     "execution_count": 72,
     "metadata": {},
     "output_type": "execute_result"
    }
   ],
   "source": [
    "a = np.array([ 6,  7,  8,  9, 10])\n",
    "a[0]"
   ]
  },
  {
   "cell_type": "code",
   "execution_count": 64,
   "metadata": {},
   "outputs": [
    {
     "data": {
      "text/plain": [
       "20"
      ]
     },
     "execution_count": 64,
     "metadata": {},
     "output_type": "execute_result"
    }
   ],
   "source": [
    "a = np.array([[11, 12, 13, 14, 15], [16, 17, 18, 19, 20]])\n",
    "a[1,-1]"
   ]
  },
  {
   "cell_type": "code",
   "execution_count": 74,
   "metadata": {},
   "outputs": [
    {
     "data": {
      "text/plain": [
       "array([13, 14])"
      ]
     },
     "execution_count": 74,
     "metadata": {},
     "output_type": "execute_result"
    }
   ],
   "source": [
    "a = np.array([[8, 9], [13, 14]])\n",
    "a[1,:]"
   ]
  },
  {
   "cell_type": "markdown",
   "metadata": {},
   "source": [
    "6. Calculate the sum of all the numbers in a."
   ]
  },
  {
   "cell_type": "code",
   "execution_count": 76,
   "metadata": {},
   "outputs": [
    {
     "data": {
      "text/plain": [
       "44"
      ]
     },
     "execution_count": 76,
     "metadata": {},
     "output_type": "execute_result"
    }
   ],
   "source": [
    "np.sum(a)"
   ]
  },
  {
   "cell_type": "markdown",
   "metadata": {},
   "source": [
    "7. Calculate the sum of each row in a."
   ]
  },
  {
   "cell_type": "code",
   "execution_count": 79,
   "metadata": {},
   "outputs": [
    {
     "data": {
      "text/plain": [
       "array([17, 27])"
      ]
     },
     "execution_count": 79,
     "metadata": {},
     "output_type": "execute_result"
    }
   ],
   "source": [
    "np.sum(a, axis=1)"
   ]
  },
  {
   "cell_type": "markdown",
   "metadata": {},
   "source": [
    "8. Extract all values of a greater than the mean of a (hint: use a boolean mask)."
   ]
  },
  {
   "cell_type": "code",
   "execution_count": 95,
   "metadata": {},
   "outputs": [
    {
     "data": {
      "text/plain": [
       "array([13, 14])"
      ]
     },
     "execution_count": 95,
     "metadata": {},
     "output_type": "execute_result"
    }
   ],
   "source": [
    "a[a > np.mean(a)]"
   ]
  },
  {
   "cell_type": "markdown",
   "metadata": {},
   "source": [
    "9. Find the location of the minimum value in the following array b:<br><br>\n",
    "`np.random.seed(123)`<br>\n",
    "`b = np.random.randn(10)`<br>\n",
    "`b`<br>"
   ]
  },
  {
   "cell_type": "code",
   "execution_count": null,
   "metadata": {},
   "outputs": [],
   "source": []
  },
  {
   "cell_type": "markdown",
   "metadata": {},
   "source": [
    "10. Find the location of the maximum value in the following 2D array c (hint: there are many ways to do this question, but a quick search on stackoverflow.com will typically help you find the optimum solution for a problem, for example see post):<br><br>\n",
    "`np.random.seed(123)`<br>\n",
    "`c = np.random.randn(3, 2)`<br>\n",
    "`c`<br>\n"
   ]
  },
  {
   "cell_type": "markdown",
   "metadata": {},
   "source": []
  },
  {
   "cell_type": "markdown",
   "metadata": {},
   "source": [
    "# Pandas"
   ]
  },
  {
   "cell_type": "markdown",
   "metadata": {},
   "source": [
    "1. In this set of practice exercises we’ll be investigating the carbon footprint of different foods. We’ll be leveraging a dataset compiled by Kasia Kulma and contributed to R’s Tidy Tuesday project.\n",
    "\n",
    "Start by importing pandas with the alias pd."
   ]
  },
  {
   "cell_type": "code",
   "execution_count": 96,
   "metadata": {},
   "outputs": [],
   "source": [
    "import pandas as pd"
   ]
  },
  {
   "cell_type": "markdown",
   "metadata": {},
   "source": [
    "2. Import the dataset as a dataframe named df from this url: https://raw.githubusercontent.com/rfordatascience/tidytuesday/master/data/2020/2020-02-18/food_consumption.csv"
   ]
  },
  {
   "cell_type": "code",
   "execution_count": null,
   "metadata": {},
   "outputs": [],
   "source": [
    "df = pd.read_csv(f'')"
   ]
  },
  {
   "cell_type": "markdown",
   "metadata": {},
   "source": [
    "3. How many rows and columns are there in the dataframe?"
   ]
  },
  {
   "cell_type": "code",
   "execution_count": null,
   "metadata": {},
   "outputs": [],
   "source": []
  },
  {
   "cell_type": "markdown",
   "metadata": {},
   "source": [
    "4. What is the type of data in each column of df?"
   ]
  },
  {
   "cell_type": "code",
   "execution_count": null,
   "metadata": {},
   "outputs": [],
   "source": []
  },
  {
   "cell_type": "markdown",
   "metadata": {},
   "source": [
    "5. What is the mean `co2_emission` of the whole dataset?"
   ]
  },
  {
   "cell_type": "code",
   "execution_count": null,
   "metadata": {},
   "outputs": [],
   "source": []
  },
  {
   "cell_type": "markdown",
   "metadata": {},
   "source": [
    "6. How many different kinds of foods are there in the dataset? How many countries are in the dataset?"
   ]
  },
  {
   "cell_type": "code",
   "execution_count": null,
   "metadata": {},
   "outputs": [],
   "source": []
  },
  {
   "cell_type": "markdown",
   "metadata": {},
   "source": [
    "7. What is the maximum `co2_emmission` in the dataset and which food type and country does it belong to?"
   ]
  },
  {
   "cell_type": "code",
   "execution_count": null,
   "metadata": {},
   "outputs": [],
   "source": []
  },
  {
   "cell_type": "markdown",
   "metadata": {},
   "source": [
    "8. How many countries produce more than 1000 Kg CO2/person/year for at least one food type?"
   ]
  },
  {
   "cell_type": "code",
   "execution_count": null,
   "metadata": {},
   "outputs": [],
   "source": []
  },
  {
   "cell_type": "markdown",
   "metadata": {},
   "source": [
    "9. Which country consumes the least amount of beef per person per year?"
   ]
  },
  {
   "cell_type": "code",
   "execution_count": null,
   "metadata": {},
   "outputs": [],
   "source": []
  },
  {
   "cell_type": "markdown",
   "metadata": {},
   "source": [
    "10. Which country consumes the most amount of soybeans per person per year?"
   ]
  },
  {
   "cell_type": "code",
   "execution_count": null,
   "metadata": {},
   "outputs": [],
   "source": []
  },
  {
   "cell_type": "markdown",
   "metadata": {},
   "source": [
    "11. What is the total emissions of all the meat products (Pork, Poultry, Fish, Lamb & Goat, Beef) in the dataset combined?"
   ]
  },
  {
   "cell_type": "code",
   "execution_count": null,
   "metadata": {},
   "outputs": [],
   "source": []
  },
  {
   "cell_type": "markdown",
   "metadata": {},
   "source": [
    "12. What is the total emissions of all other (non-meat) products in the dataset combined?"
   ]
  },
  {
   "cell_type": "code",
   "execution_count": null,
   "metadata": {},
   "outputs": [],
   "source": []
  }
 ],
 "metadata": {
  "kernelspec": {
   "display_name": "Python 3",
   "language": "python",
   "name": "python3"
  },
  "language_info": {
   "codemirror_mode": {
    "name": "ipython",
    "version": 3
   },
   "file_extension": ".py",
   "mimetype": "text/x-python",
   "name": "python",
   "nbconvert_exporter": "python",
   "pygments_lexer": "ipython3",
   "version": "3.12.3"
  }
 },
 "nbformat": 4,
 "nbformat_minor": 2
}
