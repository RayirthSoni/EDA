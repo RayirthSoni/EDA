{
 "cells": [
  {
   "cell_type": "code",
   "execution_count": 1,
   "metadata": {},
   "outputs": [],
   "source": [
    "import pandas as pd\n",
    "import numpy as np"
   ]
  },
  {
   "cell_type": "code",
   "execution_count": 2,
   "metadata": {},
   "outputs": [],
   "source": [
    "# Find Users With Valid E-Mails\n",
    "users = pd.DataFrame(\n",
    "    data={\n",
    "        \"user_id\": [1, 2, 3, 4, 5, 6, 7],\n",
    "        \"name\": [\n",
    "            \"Winston\",\n",
    "            \"Jonathan\",\n",
    "            \"Annabelle\",\n",
    "            \"Sally\",\n",
    "            \"Marwan\",\n",
    "            \"David\",\n",
    "            \"Shapiro\",\n",
    "        ],\n",
    "        \"mail\": [\n",
    "            \"winston@leetcode.com\",\n",
    "            \"jonathanisgreat\",\n",
    "            \"bella-@leetcode.com\",\n",
    "            \"sally.come@leetcode.com\",\n",
    "            \"quarz#2020@leetcode.com\",\n",
    "            \"david69@gmail.com\",\n",
    "            \".shapo@leetcode.com\",\n",
    "        ],\n",
    "    }\n",
    ")"
   ]
  },
  {
   "cell_type": "code",
   "execution_count": 3,
   "metadata": {},
   "outputs": [
    {
     "ename": "SyntaxError",
     "evalue": "invalid syntax (3143368341.py, line 1)",
     "output_type": "error",
     "traceback": [
      "\u001b[0;36m  Cell \u001b[0;32mIn[3], line 1\u001b[0;36m\u001b[0m\n\u001b[0;31m    account_id | income |\u001b[0m\n\u001b[0m                         ^\u001b[0m\n\u001b[0;31mSyntaxError\u001b[0m\u001b[0;31m:\u001b[0m invalid syntax\n"
     ]
    }
   ],
   "source": [
    "account_id | income |\n",
    "+------------+--------+\n",
    "| 3          | 108939 |\n",
    "| 2          | 12747  |\n",
    "| 8          | 87709  |\n",
    "| 6          | 91796  |"
   ]
  },
  {
   "cell_type": "code",
   "execution_count": 11,
   "metadata": {},
   "outputs": [],
   "source": [
    "accounts = pd.DataFrame(\n",
    "    data = {\n",
    "        \"account_id\": [3, 2, 8, 6],\n",
    "        \"income\": [108939, 12747, 87709, 91796]\n",
    "    }\n",
    ")"
   ]
  },
  {
   "cell_type": "code",
   "execution_count": 12,
   "metadata": {},
   "outputs": [
    {
     "data": {
      "text/plain": [
       "0    High\n",
       "1     Low\n",
       "2    High\n",
       "3    High\n",
       "dtype: object"
      ]
     },
     "execution_count": 12,
     "metadata": {},
     "output_type": "execute_result"
    }
   ],
   "source": [
    "accounts.apply(lambda x: 'High' if x['income'] > 50000 else 'Medium' if 20_000 <= x['income'] <= 50_000 else 'Low', axis=1)"
   ]
  },
  {
   "cell_type": "code",
   "execution_count": 17,
   "metadata": {},
   "outputs": [],
   "source": [
    "category = pd.cut(\n",
    "    accounts[\"income\"],\n",
    "    bins=[float(\"-inf\"), 20_000, 50_000, float(\"inf\")],\n",
    "    labels=[\"Low Salary\", \"Average Salary\", \"High Salary\"],\n",
    ")"
   ]
  }
 ],
 "metadata": {
  "kernelspec": {
   "display_name": "base",
   "language": "python",
   "name": "python3"
  },
  "language_info": {
   "codemirror_mode": {
    "name": "ipython",
    "version": 3
   },
   "file_extension": ".py",
   "mimetype": "text/x-python",
   "name": "python",
   "nbconvert_exporter": "python",
   "pygments_lexer": "ipython3",
   "version": "3.12.2"
  }
 },
 "nbformat": 4,
 "nbformat_minor": 2
}
