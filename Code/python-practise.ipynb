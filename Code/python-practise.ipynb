{
 "cells": [
  {
   "cell_type": "markdown",
   "metadata": {},
   "source": [
    "# Questions"
   ]
  },
  {
   "cell_type": "markdown",
   "metadata": {},
   "source": [
    "1. Write a Python program that prints the numbers from 1 to 100. But for multiples of three, print \"Fizz\" instead of the number, and for the multiples of five, print \"Buzz\". For numbers which are multiples of both three and five, print \"FizzBuzz\"."
   ]
  },
  {
   "cell_type": "code",
   "execution_count": 2,
   "metadata": {},
   "outputs": [
    {
     "name": "stdout",
     "output_type": "stream",
     "text": [
      "[1, 2, 'Fizz', 4, 'Buzz', 'Fizz', 7, 8, 'Fizz', 'Buzz', 11, 'Fizz', 13, 14, 'FizzBuzz', 16, 17, 'Fizz', 19, 'Buzz', 'Fizz', 22, 23, 'Fizz', 'Buzz', 26, 'Fizz', 28, 29, 'FizzBuzz', 31, 32, 'Fizz', 34, 'Buzz', 'Fizz', 37, 38, 'Fizz', 'Buzz', 41, 'Fizz', 43, 44, 'FizzBuzz', 46, 47, 'Fizz', 49, 'Buzz', 'Fizz', 52, 53, 'Fizz', 'Buzz', 56, 'Fizz', 58, 59, 'FizzBuzz', 61, 62, 'Fizz', 64, 'Buzz', 'Fizz', 67, 68, 'Fizz', 'Buzz', 71, 'Fizz', 73, 74, 'FizzBuzz', 76, 77, 'Fizz', 79, 'Buzz', 'Fizz', 82, 83, 'Fizz', 'Buzz', 86, 'Fizz', 88, 89, 'FizzBuzz', 91, 92, 'Fizz', 94, 'Buzz', 'Fizz', 97, 98, 'Fizz', 'Buzz']\n"
     ]
    }
   ],
   "source": [
    "num_list = [number if ((number % 3 != 0) and (number % 5 != 0)) else \"FizzBuzz\" if (number % 3 == 0) and (number % 5 == 0)\n",
    "            else \"Buzz\" if (number % 5 == 0) else \"Fizz\"for number in range(1, 101)]\n",
    "print(num_list)"
   ]
  },
  {
   "cell_type": "markdown",
   "metadata": {},
   "source": [
    "2. Write a Python function that takes two strings and returns True if they are anagrams of each other, and False otherwise.\n"
   ]
  },
  {
   "cell_type": "code",
   "execution_count": 3,
   "metadata": {},
   "outputs": [
    {
     "data": {
      "text/plain": [
       "True"
      ]
     },
     "execution_count": 3,
     "metadata": {},
     "output_type": "execute_result"
    }
   ],
   "source": [
    "def anagrams_check(**kwargs):\n",
    "    word1 = kwargs.get(\"word1\", \"\")\n",
    "    word2 = kwargs.get(\"word2\", \"\")\n",
    "\n",
    "    word1_letters = [letter for letter in word1]\n",
    "    word2_letters = [letter for letter in word2]\n",
    "\n",
    "    if len(word1_letters) != len(word2_letters):\n",
    "        return False\n",
    "\n",
    "    return sorted(word1_letters) == sorted(word2_letters)\n",
    "\n",
    "\n",
    "anagrams_check(word1=\"abcd\", word2=\"cabd\")"
   ]
  },
  {
   "cell_type": "markdown",
   "metadata": {},
   "source": [
    "3. Write a Python function that returns a list of all prime numbers up to a given number n.\n"
   ]
  },
  {
   "cell_type": "code",
   "execution_count": 4,
   "metadata": {},
   "outputs": [
    {
     "name": "stdout",
     "output_type": "stream",
     "text": [
      "[2, 3, 5, 7, 11, 13, 17, 19, 23, 29, 31, 37, 41, 43, 47, 53, 59, 61, 67, 71, 73, 79, 83, 89, 97]\n"
     ]
    }
   ],
   "source": [
    "import math\n",
    "\n",
    "\n",
    "def prime_number_within_range(num_lower, num_higher):\n",
    "    prime_numbers = []\n",
    "    for number in range(num_lower, num_higher + 1):\n",
    "        cnt_factors = 0\n",
    "        if number == 1:\n",
    "            continue\n",
    "        for divisor in range(1, (math.floor(number**0.5) + 1)):\n",
    "            if number % divisor == 0:\n",
    "                cnt_factors += 1\n",
    "        if cnt_factors == 1:\n",
    "            prime_numbers.append(number)\n",
    "\n",
    "    return prime_numbers\n",
    "\n",
    "\n",
    "print(prime_number_within_range(1, 100))"
   ]
  },
  {
   "cell_type": "markdown",
   "metadata": {},
   "source": [
    "4. Write a Python function to check if a given string of parentheses is balanced. For example, (), ([]), and ({[]}) are balanced, but ([)] and ({[}) are not.\n"
   ]
  },
  {
   "cell_type": "code",
   "execution_count": 28,
   "metadata": {},
   "outputs": [
    {
     "name": "stdout",
     "output_type": "stream",
     "text": [
      "()\n"
     ]
    },
    {
     "data": {
      "text/plain": [
       "True"
      ]
     },
     "execution_count": 28,
     "metadata": {},
     "output_type": "execute_result"
    }
   ],
   "source": [
    "def balanced_parenthesis_check(pattern):\n",
    "    length = len(pattern)\n",
    "    if length % 2 != 0:\n",
    "        return False\n",
    "    for i in range(length // 2):\n",
    "        temp_pattern = pattern[i] + pattern[length - 1 - i]\n",
    "        print(temp_pattern)\n",
    "        if temp_pattern not in ['()', '[]', r'{}']:\n",
    "            return False\n",
    "    return True\n",
    "\n",
    "\n",
    "balanced_parenthesis_check(\"()\")"
   ]
  },
  {
   "cell_type": "code",
   "execution_count": null,
   "metadata": {},
   "outputs": [],
   "source": []
  },
  {
   "cell_type": "code",
   "execution_count": null,
   "metadata": {},
   "outputs": [],
   "source": []
  }
 ],
 "metadata": {
  "kernelspec": {
   "display_name": "base",
   "language": "python",
   "name": "python3"
  },
  "language_info": {
   "codemirror_mode": {
    "name": "ipython",
    "version": 3
   },
   "file_extension": ".py",
   "mimetype": "text/x-python",
   "name": "python",
   "nbconvert_exporter": "python",
   "pygments_lexer": "ipython3",
   "version": "3.12.2"
  }
 },
 "nbformat": 4,
 "nbformat_minor": 2
}
