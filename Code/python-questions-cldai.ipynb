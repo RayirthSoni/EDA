{
 "cells": [
  {
   "cell_type": "code",
   "execution_count": 3,
   "metadata": {},
   "outputs": [],
   "source": [
    "import pandas as pd\n",
    "import numpy as np\n",
    "\n",
    "import warnings\n",
    "warnings.filterwarnings('ignore')"
   ]
  },
  {
   "cell_type": "markdown",
   "metadata": {},
   "source": [
    "# Set 1"
   ]
  },
  {
   "cell_type": "markdown",
   "metadata": {},
   "source": [
    "1. Write a function that takes a list of numbers and returns the sum of all even numbers.\n"
   ]
  },
  {
   "cell_type": "code",
   "execution_count": 6,
   "metadata": {},
   "outputs": [
    {
     "data": {
      "text/plain": [
       "30"
      ]
     },
     "execution_count": 6,
     "metadata": {},
     "output_type": "execute_result"
    }
   ],
   "source": [
    "payload = [1, 2, 3, 4, 5, 6, 7, 8, 9, 10]\n",
    "\n",
    "even_sum = sum(filter(lambda x: x % 2 == 0, payload))\n",
    "even_sum"
   ]
  },
  {
   "cell_type": "markdown",
   "metadata": {},
   "source": [
    "2. Create a program that prints the multiplication table (1-10) for a given number.\n"
   ]
  },
  {
   "cell_type": "code",
   "execution_count": 9,
   "metadata": {},
   "outputs": [
    {
     "name": "stdout",
     "output_type": "stream",
     "text": [
      "5 * 1 = 5\n",
      "5 * 2 = 10\n",
      "5 * 3 = 15\n",
      "5 * 4 = 20\n",
      "5 * 5 = 25\n",
      "5 * 6 = 30\n",
      "5 * 7 = 35\n",
      "5 * 8 = 40\n",
      "5 * 9 = 45\n",
      "5 * 10 = 50\n"
     ]
    }
   ],
   "source": [
    "def get_multiplication_table(num: int) -> None:\n",
    "    \"\"\"Function is used to print the multiplication table of a given number\n",
    "\n",
    "    Args:\n",
    "        num (int): Number for which we need the multiplication table\n",
    "    \"\"\"\n",
    "    for i in range(1, 11):\n",
    "        print(f\"{num} * {i} = {num * i}\")\n",
    "\n",
    "\n",
    "get_multiplication_table(5)"
   ]
  },
  {
   "cell_type": "markdown",
   "metadata": {},
   "source": [
    "3. Write a function that counts how many vowels are in a given string.\n"
   ]
  },
  {
   "cell_type": "code",
   "execution_count": null,
   "metadata": {},
   "outputs": [],
   "source": []
  },
  {
   "cell_type": "markdown",
   "metadata": {},
   "source": [
    "4. Create a program that converts temperatures between Fahrenheit and Celsius.\n"
   ]
  },
  {
   "cell_type": "code",
   "execution_count": 11,
   "metadata": {},
   "outputs": [
    {
     "data": {
      "text/plain": [
       "36.666666666666664"
      ]
     },
     "execution_count": 11,
     "metadata": {},
     "output_type": "execute_result"
    }
   ],
   "source": [
    "def farhenheit_to_celsius(farhenheit_temperature: float) -> float:\n",
    "    celsius_temperature = (farhenheit_temperature - 32) * 5 / 9\n",
    "    return celsius_temperature\n",
    "\n",
    "\n",
    "farhenheit_to_celsius(98)"
   ]
  },
  {
   "cell_type": "markdown",
   "metadata": {},
   "source": [
    "5. Write a function that returns the reverse of a string without using the reverse() method."
   ]
  },
  {
   "cell_type": "code",
   "execution_count": 12,
   "metadata": {},
   "outputs": [
    {
     "data": {
      "text/plain": [
       "'olleH'"
      ]
     },
     "execution_count": 12,
     "metadata": {},
     "output_type": "execute_result"
    }
   ],
   "source": [
    "def reverse_string(input_string: str) -> str:\n",
    "    return input_string[::-1]\n",
    "\n",
    "reverse_string(\"Hello\")"
   ]
  },
  {
   "cell_type": "markdown",
   "metadata": {},
   "source": [
    "6. Create a function that checks if a string is a valid palindrome ignoring spaces, punctuation, and letter case.\n"
   ]
  },
  {
   "cell_type": "code",
   "execution_count": null,
   "metadata": {},
   "outputs": [],
   "source": []
  },
  {
   "cell_type": "markdown",
   "metadata": {},
   "source": [
    "7. Write a program that finds all prime numbers up to a given number using the Sieve of Eratosthenes algorithm.\n"
   ]
  },
  {
   "cell_type": "code",
   "execution_count": null,
   "metadata": {},
   "outputs": [],
   "source": []
  },
  {
   "cell_type": "markdown",
   "metadata": {},
   "source": [
    "8. Create a function that takes a list of integers and returns the longest sequence of consecutive numbers.\n"
   ]
  },
  {
   "cell_type": "code",
   "execution_count": null,
   "metadata": {},
   "outputs": [],
   "source": []
  },
  {
   "cell_type": "markdown",
   "metadata": {},
   "source": [
    "9. Write a program that simulates a basic bank account with deposit, withdraw, and balance check methods.\n"
   ]
  },
  {
   "cell_type": "code",
   "execution_count": null,
   "metadata": {},
   "outputs": [],
   "source": []
  },
  {
   "cell_type": "markdown",
   "metadata": {},
   "source": [
    "10. Create a function that finds the first non-repeating character in a string."
   ]
  },
  {
   "cell_type": "code",
   "execution_count": null,
   "metadata": {},
   "outputs": [],
   "source": []
  },
  {
   "cell_type": "markdown",
   "metadata": {},
   "source": [
    "11. Implement a custom decorator that measures and prints the execution time of any function it decorates.\n"
   ]
  },
  {
   "cell_type": "code",
   "execution_count": null,
   "metadata": {},
   "outputs": [],
   "source": []
  },
  {
   "cell_type": "markdown",
   "metadata": {},
   "source": [
    "12. Create a generator function that yields all possible combinations of a given list of elements.\n"
   ]
  },
  {
   "cell_type": "code",
   "execution_count": null,
   "metadata": {},
   "outputs": [],
   "source": []
  },
  {
   "cell_type": "markdown",
   "metadata": {},
   "source": [
    "13. Write a program that implements a basic LRU (Least Recently Used) cache with a given capacity.\n"
   ]
  },
  {
   "cell_type": "code",
   "execution_count": null,
   "metadata": {},
   "outputs": [],
   "source": []
  },
  {
   "cell_type": "markdown",
   "metadata": {},
   "source": [
    "14. Create a function that performs matrix multiplication without using external libraries.\n"
   ]
  },
  {
   "cell_type": "code",
   "execution_count": null,
   "metadata": {},
   "outputs": [],
   "source": []
  },
  {
   "cell_type": "markdown",
   "metadata": {},
   "source": [
    "15. Implement a basic web scraper that extracts all links from a given HTML string using only built-in Python libraries.\n"
   ]
  },
  {
   "cell_type": "code",
   "execution_count": null,
   "metadata": {},
   "outputs": [],
   "source": []
  },
  {
   "cell_type": "markdown",
   "metadata": {},
   "source": [
    "16. Implement a binary search tree class with insert, delete, and traversal methods.\n"
   ]
  },
  {
   "cell_type": "code",
   "execution_count": null,
   "metadata": {},
   "outputs": [],
   "source": []
  },
  {
   "cell_type": "markdown",
   "metadata": {},
   "source": [
    "17. Create a program that solves the N-Queens problem for any given board size.\n"
   ]
  },
  {
   "cell_type": "code",
   "execution_count": null,
   "metadata": {},
   "outputs": [],
   "source": []
  },
  {
   "cell_type": "markdown",
   "metadata": {},
   "source": [
    "18. Implement a basic thread-safe queue using Python's threading module.\n"
   ]
  },
  {
   "cell_type": "code",
   "execution_count": null,
   "metadata": {},
   "outputs": [],
   "source": []
  },
  {
   "cell_type": "markdown",
   "metadata": {},
   "source": [
    "19. Write a memory-efficient function to find the k most frequent elements in a very large file.\n"
   ]
  },
  {
   "cell_type": "code",
   "execution_count": null,
   "metadata": {},
   "outputs": [],
   "source": []
  },
  {
   "cell_type": "markdown",
   "metadata": {},
   "source": [
    "20. Create a basic regex parser that can handle simple patterns (literals, wildcards, and character classes)."
   ]
  },
  {
   "cell_type": "code",
   "execution_count": null,
   "metadata": {},
   "outputs": [],
   "source": []
  },
  {
   "cell_type": "markdown",
   "metadata": {},
   "source": [
    "# Set 2"
   ]
  },
  {
   "cell_type": "code",
   "execution_count": 4,
   "metadata": {},
   "outputs": [],
   "source": [
    "# Sales Data\n",
    "sales_data = pd.DataFrame(\n",
    "    {\n",
    "        \"date\": [\n",
    "            \"2024-01-01\",\n",
    "            \"2024-01-01\",\n",
    "            \"2024-01-02\",\n",
    "            \"2024-01-02\",\n",
    "            \"2024-01-03\",\n",
    "            \"2024-01-03\",\n",
    "            \"2024-01-04\",\n",
    "            \"2024-01-04\",\n",
    "            \"2024-01-05\",\n",
    "            \"2024-01-05\",\n",
    "        ],\n",
    "        \"product\": [\n",
    "            \"Laptop\",\n",
    "            \"Phone\",\n",
    "            \"Laptop\",\n",
    "            \"Tablet\",\n",
    "            \"Phone\",\n",
    "            \"Tablet\",\n",
    "            \"Laptop\",\n",
    "            \"Phone\",\n",
    "            \"Tablet\",\n",
    "            \"Phone\",\n",
    "        ],\n",
    "        \"category\": [\n",
    "            \"Electronics\",\n",
    "            \"Electronics\",\n",
    "            \"Electronics\",\n",
    "            \"Electronics\",\n",
    "            \"Electronics\",\n",
    "            \"Electronics\",\n",
    "            \"Electronics\",\n",
    "            \"Electronics\",\n",
    "            \"Electronics\",\n",
    "            \"Electronics\",\n",
    "        ],\n",
    "        \"price\": [1200, 800, 1200, 500, 800, 500, 1200, 800, 500, 800],\n",
    "        \"quantity\": [1, 2, 1, 3, 2, 1, 2, 3, 2, 1],\n",
    "        \"customer_id\": [\n",
    "            \"C001\",\n",
    "            \"C002\",\n",
    "            \"C003\",\n",
    "            \"C001\",\n",
    "            \"C004\",\n",
    "            \"C002\",\n",
    "            \"C005\",\n",
    "            \"C003\",\n",
    "            \"C001\",\n",
    "            \"C002\",\n",
    "        ],\n",
    "    }\n",
    ")\n",
    "\n",
    "# Customer Data\n",
    "customer_data = pd.DataFrame(\n",
    "    {\n",
    "        \"customer_id\": [\"C001\", \"C002\", \"C003\", \"C004\", \"C005\"],\n",
    "        \"name\": [\n",
    "            \"John Smith\",\n",
    "            \"Jane Doe\",\n",
    "            \"Bob Wilson\",\n",
    "            \"Alice Brown\",\n",
    "            \"Charlie Davis\",\n",
    "        ],\n",
    "        \"age\": [25, 30, 45, 35, 28],\n",
    "        \"signup_date\": [\n",
    "            \"2023-12-01\",\n",
    "            \"2023-12-15\",\n",
    "            \"2023-12-20\",\n",
    "            \"2024-01-01\",\n",
    "            \"2024-01-02\",\n",
    "        ],\n",
    "        \"country\": [\"USA\", \"Canada\", \"USA\", \"UK\", \"Canada\"],\n",
    "        \"email\": [\n",
    "            \"john@email.com\",\n",
    "            \"jane@email.com\",\n",
    "            \"bob@email.com\",\n",
    "            \"alice@email.com\",\n",
    "            \"charlie@email.com\",\n",
    "        ],\n",
    "    }\n",
    ")\n",
    "\n",
    "# Product Reviews\n",
    "reviews_data = pd.DataFrame(\n",
    "    {\n",
    "        \"date\": [\n",
    "            \"2024-01-02\",\n",
    "            \"2024-01-02\",\n",
    "            \"2024-01-03\",\n",
    "            \"2024-01-04\",\n",
    "            \"2024-01-04\",\n",
    "            \"2024-01-05\",\n",
    "            \"2024-01-05\",\n",
    "            \"2024-01-06\",\n",
    "            \"2024-01-06\",\n",
    "            \"2024-01-07\",\n",
    "        ],\n",
    "        \"product\": [\n",
    "            \"Laptop\",\n",
    "            \"Phone\",\n",
    "            \"Tablet\",\n",
    "            \"Laptop\",\n",
    "            \"Phone\",\n",
    "            \"Laptop\",\n",
    "            \"Tablet\",\n",
    "            \"Phone\",\n",
    "            \"Tablet\",\n",
    "            \"Laptop\",\n",
    "        ],\n",
    "        \"customer_id\": [\n",
    "            \"C001\",\n",
    "            \"C002\",\n",
    "            \"C002\",\n",
    "            \"C003\",\n",
    "            \"C001\",\n",
    "            \"C004\",\n",
    "            \"C003\",\n",
    "            \"C005\",\n",
    "            \"C001\",\n",
    "            \"C002\",\n",
    "        ],\n",
    "        \"rating\": [5, 4, 3, 5, 4, 3, 5, 4, 3, 5],\n",
    "        \"review_text\": [\n",
    "            \"Great laptop!\",\n",
    "            \"Good phone\",\n",
    "            \"Decent tablet\",\n",
    "            \"Excellent performance\",\n",
    "            \"Nice features\",\n",
    "            \"Average\",\n",
    "            \"Very useful\",\n",
    "            \"Good value\",\n",
    "            \"Could be better\",\n",
    "            \"Love it!\",\n",
    "        ],\n",
    "    }\n",
    ")"
   ]
  },
  {
   "cell_type": "markdown",
   "metadata": {},
   "source": [
    "#### Beginner Level\n",
    "- How many unique customers made purchases?\n",
    "- What is the total revenue per product?\n",
    "- Find the customer who spent the most money\n"
   ]
  },
  {
   "cell_type": "code",
   "execution_count": 9,
   "metadata": {},
   "outputs": [
    {
     "data": {
      "text/plain": [
       "5"
      ]
     },
     "execution_count": 9,
     "metadata": {},
     "output_type": "execute_result"
    }
   ],
   "source": [
    "sales_data.customer_id.nunique()"
   ]
  },
  {
   "cell_type": "code",
   "execution_count": 31,
   "metadata": {},
   "outputs": [
    {
     "data": {
      "text/plain": [
       "product\n",
       "Laptop    4800\n",
       "Phone     6400\n",
       "Tablet    3000\n",
       "dtype: int64"
      ]
     },
     "execution_count": 31,
     "metadata": {},
     "output_type": "execute_result"
    }
   ],
   "source": [
    "sales_data.groupby('product').apply(lambda x: (x['price'] * x['quantity']).sum())"
   ]
  },
  {
   "cell_type": "code",
   "execution_count": 36,
   "metadata": {},
   "outputs": [
    {
     "data": {
      "text/plain": [
       "'C001'"
      ]
     },
     "execution_count": 36,
     "metadata": {},
     "output_type": "execute_result"
    }
   ],
   "source": [
    "sales_data.groupby('customer_id').apply(lambda x: (x['price'] * x['quantity']).sum()).idxmax()"
   ]
  },
  {
   "cell_type": "markdown",
   "metadata": {},
   "source": [
    "#### Simple Filtering:\n",
    "\n",
    "- Get all purchases made by customer 'C001'\n",
    "- Find all products that were sold more than 2 units in a single transaction\n",
    "- List all Canadian customers\n"
   ]
  },
  {
   "cell_type": "code",
   "execution_count": 38,
   "metadata": {},
   "outputs": [
    {
     "data": {
      "text/html": [
       "<div>\n",
       "<style scoped>\n",
       "    .dataframe tbody tr th:only-of-type {\n",
       "        vertical-align: middle;\n",
       "    }\n",
       "\n",
       "    .dataframe tbody tr th {\n",
       "        vertical-align: top;\n",
       "    }\n",
       "\n",
       "    .dataframe thead th {\n",
       "        text-align: right;\n",
       "    }\n",
       "</style>\n",
       "<table border=\"1\" class=\"dataframe\">\n",
       "  <thead>\n",
       "    <tr style=\"text-align: right;\">\n",
       "      <th></th>\n",
       "      <th>date</th>\n",
       "      <th>product</th>\n",
       "      <th>category</th>\n",
       "      <th>price</th>\n",
       "      <th>quantity</th>\n",
       "      <th>customer_id</th>\n",
       "    </tr>\n",
       "  </thead>\n",
       "  <tbody>\n",
       "    <tr>\n",
       "      <th>0</th>\n",
       "      <td>2024-01-01</td>\n",
       "      <td>Laptop</td>\n",
       "      <td>Electronics</td>\n",
       "      <td>1200</td>\n",
       "      <td>1</td>\n",
       "      <td>C001</td>\n",
       "    </tr>\n",
       "    <tr>\n",
       "      <th>3</th>\n",
       "      <td>2024-01-02</td>\n",
       "      <td>Tablet</td>\n",
       "      <td>Electronics</td>\n",
       "      <td>500</td>\n",
       "      <td>3</td>\n",
       "      <td>C001</td>\n",
       "    </tr>\n",
       "    <tr>\n",
       "      <th>8</th>\n",
       "      <td>2024-01-05</td>\n",
       "      <td>Tablet</td>\n",
       "      <td>Electronics</td>\n",
       "      <td>500</td>\n",
       "      <td>2</td>\n",
       "      <td>C001</td>\n",
       "    </tr>\n",
       "  </tbody>\n",
       "</table>\n",
       "</div>"
      ],
      "text/plain": [
       "         date product     category  price  quantity customer_id\n",
       "0  2024-01-01  Laptop  Electronics   1200         1        C001\n",
       "3  2024-01-02  Tablet  Electronics    500         3        C001\n",
       "8  2024-01-05  Tablet  Electronics    500         2        C001"
      ]
     },
     "execution_count": 38,
     "metadata": {},
     "output_type": "execute_result"
    }
   ],
   "source": [
    "sales_data[sales_data['customer_id'] == 'C001']"
   ]
  },
  {
   "cell_type": "code",
   "execution_count": 41,
   "metadata": {},
   "outputs": [
    {
     "data": {
      "text/html": [
       "<div>\n",
       "<style scoped>\n",
       "    .dataframe tbody tr th:only-of-type {\n",
       "        vertical-align: middle;\n",
       "    }\n",
       "\n",
       "    .dataframe tbody tr th {\n",
       "        vertical-align: top;\n",
       "    }\n",
       "\n",
       "    .dataframe thead th {\n",
       "        text-align: right;\n",
       "    }\n",
       "</style>\n",
       "<table border=\"1\" class=\"dataframe\">\n",
       "  <thead>\n",
       "    <tr style=\"text-align: right;\">\n",
       "      <th></th>\n",
       "      <th>date</th>\n",
       "      <th>product</th>\n",
       "      <th>category</th>\n",
       "      <th>price</th>\n",
       "      <th>quantity</th>\n",
       "      <th>customer_id</th>\n",
       "    </tr>\n",
       "  </thead>\n",
       "  <tbody>\n",
       "    <tr>\n",
       "      <th>3</th>\n",
       "      <td>2024-01-02</td>\n",
       "      <td>Tablet</td>\n",
       "      <td>Electronics</td>\n",
       "      <td>500</td>\n",
       "      <td>3</td>\n",
       "      <td>C001</td>\n",
       "    </tr>\n",
       "    <tr>\n",
       "      <th>7</th>\n",
       "      <td>2024-01-04</td>\n",
       "      <td>Phone</td>\n",
       "      <td>Electronics</td>\n",
       "      <td>800</td>\n",
       "      <td>3</td>\n",
       "      <td>C003</td>\n",
       "    </tr>\n",
       "  </tbody>\n",
       "</table>\n",
       "</div>"
      ],
      "text/plain": [
       "         date product     category  price  quantity customer_id\n",
       "3  2024-01-02  Tablet  Electronics    500         3        C001\n",
       "7  2024-01-04   Phone  Electronics    800         3        C003"
      ]
     },
     "execution_count": 41,
     "metadata": {},
     "output_type": "execute_result"
    }
   ],
   "source": [
    "sales_data[sales_data['quantity'] > 2]"
   ]
  },
  {
   "cell_type": "code",
   "execution_count": 44,
   "metadata": {},
   "outputs": [
    {
     "data": {
      "text/html": [
       "<div>\n",
       "<style scoped>\n",
       "    .dataframe tbody tr th:only-of-type {\n",
       "        vertical-align: middle;\n",
       "    }\n",
       "\n",
       "    .dataframe tbody tr th {\n",
       "        vertical-align: top;\n",
       "    }\n",
       "\n",
       "    .dataframe thead th {\n",
       "        text-align: right;\n",
       "    }\n",
       "</style>\n",
       "<table border=\"1\" class=\"dataframe\">\n",
       "  <thead>\n",
       "    <tr style=\"text-align: right;\">\n",
       "      <th></th>\n",
       "      <th>customer_id</th>\n",
       "      <th>name</th>\n",
       "      <th>age</th>\n",
       "      <th>signup_date</th>\n",
       "      <th>country</th>\n",
       "      <th>email</th>\n",
       "    </tr>\n",
       "  </thead>\n",
       "  <tbody>\n",
       "    <tr>\n",
       "      <th>1</th>\n",
       "      <td>C002</td>\n",
       "      <td>Jane Doe</td>\n",
       "      <td>30</td>\n",
       "      <td>2023-12-15</td>\n",
       "      <td>Canada</td>\n",
       "      <td>jane@email.com</td>\n",
       "    </tr>\n",
       "    <tr>\n",
       "      <th>4</th>\n",
       "      <td>C005</td>\n",
       "      <td>Charlie Davis</td>\n",
       "      <td>28</td>\n",
       "      <td>2024-01-02</td>\n",
       "      <td>Canada</td>\n",
       "      <td>charlie@email.com</td>\n",
       "    </tr>\n",
       "  </tbody>\n",
       "</table>\n",
       "</div>"
      ],
      "text/plain": [
       "  customer_id           name  age signup_date country              email\n",
       "1        C002       Jane Doe   30  2023-12-15  Canada     jane@email.com\n",
       "4        C005  Charlie Davis   28  2024-01-02  Canada  charlie@email.com"
      ]
     },
     "execution_count": 44,
     "metadata": {},
     "output_type": "execute_result"
    }
   ],
   "source": [
    "customer_data[customer_data['country'].str.contains('Canada')]"
   ]
  },
  {
   "cell_type": "markdown",
   "metadata": {},
   "source": [
    "#### Basic Aggregation:\n",
    "\n",
    "- Calculate the average price per product\n",
    "- Find the total quantity sold for each product\n",
    "- Count the number of purchases per customer\n"
   ]
  },
  {
   "cell_type": "code",
   "execution_count": 77,
   "metadata": {},
   "outputs": [
    {
     "data": {
      "text/plain": [
       "product\n",
       "Laptop    1200.0\n",
       "Phone      800.0\n",
       "Tablet     500.0\n",
       "Name: price, dtype: float64"
      ]
     },
     "execution_count": 77,
     "metadata": {},
     "output_type": "execute_result"
    }
   ],
   "source": [
    "sales_data.groupby('product')['price'].mean()"
   ]
  },
  {
   "cell_type": "code",
   "execution_count": 48,
   "metadata": {},
   "outputs": [
    {
     "data": {
      "text/plain": [
       "product\n",
       "Laptop    4\n",
       "Phone     8\n",
       "Tablet    6\n",
       "Name: quantity, dtype: int64"
      ]
     },
     "execution_count": 48,
     "metadata": {},
     "output_type": "execute_result"
    }
   ],
   "source": [
    "sales_data.groupby('product')['quantity'].sum()"
   ]
  },
  {
   "cell_type": "code",
   "execution_count": 82,
   "metadata": {},
   "outputs": [
    {
     "data": {
      "text/plain": [
       "customer_id\n",
       "C001    3\n",
       "C002    3\n",
       "C003    2\n",
       "C004    1\n",
       "C005    1\n",
       "Name: customer_id, dtype: int64"
      ]
     },
     "execution_count": 82,
     "metadata": {},
     "output_type": "execute_result"
    }
   ],
   "source": [
    "sales_data.groupby('customer_id')['customer_id'].size()"
   ]
  },
  {
   "cell_type": "markdown",
   "metadata": {},
   "source": [
    "#### Data Merging and Analysis:\n",
    "\n",
    "- Combine sales data with customer information to show purchase history with customer details\n",
    "- Calculate the average rating for each product along with its total sales\n",
    "- Find which country's customers spend the most on average\n"
   ]
  },
  {
   "cell_type": "code",
   "execution_count": 68,
   "metadata": {},
   "outputs": [
    {
     "data": {
      "text/html": [
       "<div>\n",
       "<style scoped>\n",
       "    .dataframe tbody tr th:only-of-type {\n",
       "        vertical-align: middle;\n",
       "    }\n",
       "\n",
       "    .dataframe tbody tr th {\n",
       "        vertical-align: top;\n",
       "    }\n",
       "\n",
       "    .dataframe thead th {\n",
       "        text-align: right;\n",
       "    }\n",
       "</style>\n",
       "<table border=\"1\" class=\"dataframe\">\n",
       "  <thead>\n",
       "    <tr style=\"text-align: right;\">\n",
       "      <th></th>\n",
       "      <th>customer_id</th>\n",
       "      <th>name</th>\n",
       "      <th>age</th>\n",
       "      <th>signup_date</th>\n",
       "      <th>country</th>\n",
       "      <th>email</th>\n",
       "      <th>date</th>\n",
       "      <th>product</th>\n",
       "      <th>category</th>\n",
       "      <th>price</th>\n",
       "      <th>quantity</th>\n",
       "      <th>date_review</th>\n",
       "      <th>rating</th>\n",
       "      <th>review_text</th>\n",
       "    </tr>\n",
       "  </thead>\n",
       "  <tbody>\n",
       "    <tr>\n",
       "      <th>0</th>\n",
       "      <td>C001</td>\n",
       "      <td>John Smith</td>\n",
       "      <td>25.0</td>\n",
       "      <td>2023-12-01</td>\n",
       "      <td>USA</td>\n",
       "      <td>john@email.com</td>\n",
       "      <td>2024-01-01</td>\n",
       "      <td>Laptop</td>\n",
       "      <td>Electronics</td>\n",
       "      <td>1200.0</td>\n",
       "      <td>1.0</td>\n",
       "      <td>2024-01-02</td>\n",
       "      <td>5.0</td>\n",
       "      <td>Great laptop!</td>\n",
       "    </tr>\n",
       "    <tr>\n",
       "      <th>1</th>\n",
       "      <td>C001</td>\n",
       "      <td>NaN</td>\n",
       "      <td>NaN</td>\n",
       "      <td>NaN</td>\n",
       "      <td>NaN</td>\n",
       "      <td>NaN</td>\n",
       "      <td>NaN</td>\n",
       "      <td>Phone</td>\n",
       "      <td>NaN</td>\n",
       "      <td>NaN</td>\n",
       "      <td>NaN</td>\n",
       "      <td>2024-01-04</td>\n",
       "      <td>4.0</td>\n",
       "      <td>Nice features</td>\n",
       "    </tr>\n",
       "    <tr>\n",
       "      <th>2</th>\n",
       "      <td>C001</td>\n",
       "      <td>John Smith</td>\n",
       "      <td>25.0</td>\n",
       "      <td>2023-12-01</td>\n",
       "      <td>USA</td>\n",
       "      <td>john@email.com</td>\n",
       "      <td>2024-01-02</td>\n",
       "      <td>Tablet</td>\n",
       "      <td>Electronics</td>\n",
       "      <td>500.0</td>\n",
       "      <td>3.0</td>\n",
       "      <td>2024-01-06</td>\n",
       "      <td>3.0</td>\n",
       "      <td>Could be better</td>\n",
       "    </tr>\n",
       "    <tr>\n",
       "      <th>3</th>\n",
       "      <td>C001</td>\n",
       "      <td>John Smith</td>\n",
       "      <td>25.0</td>\n",
       "      <td>2023-12-01</td>\n",
       "      <td>USA</td>\n",
       "      <td>john@email.com</td>\n",
       "      <td>2024-01-05</td>\n",
       "      <td>Tablet</td>\n",
       "      <td>Electronics</td>\n",
       "      <td>500.0</td>\n",
       "      <td>2.0</td>\n",
       "      <td>2024-01-06</td>\n",
       "      <td>3.0</td>\n",
       "      <td>Could be better</td>\n",
       "    </tr>\n",
       "    <tr>\n",
       "      <th>4</th>\n",
       "      <td>C002</td>\n",
       "      <td>NaN</td>\n",
       "      <td>NaN</td>\n",
       "      <td>NaN</td>\n",
       "      <td>NaN</td>\n",
       "      <td>NaN</td>\n",
       "      <td>NaN</td>\n",
       "      <td>Laptop</td>\n",
       "      <td>NaN</td>\n",
       "      <td>NaN</td>\n",
       "      <td>NaN</td>\n",
       "      <td>2024-01-07</td>\n",
       "      <td>5.0</td>\n",
       "      <td>Love it!</td>\n",
       "    </tr>\n",
       "    <tr>\n",
       "      <th>5</th>\n",
       "      <td>C002</td>\n",
       "      <td>Jane Doe</td>\n",
       "      <td>30.0</td>\n",
       "      <td>2023-12-15</td>\n",
       "      <td>Canada</td>\n",
       "      <td>jane@email.com</td>\n",
       "      <td>2024-01-01</td>\n",
       "      <td>Phone</td>\n",
       "      <td>Electronics</td>\n",
       "      <td>800.0</td>\n",
       "      <td>2.0</td>\n",
       "      <td>2024-01-02</td>\n",
       "      <td>4.0</td>\n",
       "      <td>Good phone</td>\n",
       "    </tr>\n",
       "    <tr>\n",
       "      <th>6</th>\n",
       "      <td>C002</td>\n",
       "      <td>Jane Doe</td>\n",
       "      <td>30.0</td>\n",
       "      <td>2023-12-15</td>\n",
       "      <td>Canada</td>\n",
       "      <td>jane@email.com</td>\n",
       "      <td>2024-01-05</td>\n",
       "      <td>Phone</td>\n",
       "      <td>Electronics</td>\n",
       "      <td>800.0</td>\n",
       "      <td>1.0</td>\n",
       "      <td>2024-01-02</td>\n",
       "      <td>4.0</td>\n",
       "      <td>Good phone</td>\n",
       "    </tr>\n",
       "    <tr>\n",
       "      <th>7</th>\n",
       "      <td>C002</td>\n",
       "      <td>Jane Doe</td>\n",
       "      <td>30.0</td>\n",
       "      <td>2023-12-15</td>\n",
       "      <td>Canada</td>\n",
       "      <td>jane@email.com</td>\n",
       "      <td>2024-01-03</td>\n",
       "      <td>Tablet</td>\n",
       "      <td>Electronics</td>\n",
       "      <td>500.0</td>\n",
       "      <td>1.0</td>\n",
       "      <td>2024-01-03</td>\n",
       "      <td>3.0</td>\n",
       "      <td>Decent tablet</td>\n",
       "    </tr>\n",
       "    <tr>\n",
       "      <th>8</th>\n",
       "      <td>C003</td>\n",
       "      <td>Bob Wilson</td>\n",
       "      <td>45.0</td>\n",
       "      <td>2023-12-20</td>\n",
       "      <td>USA</td>\n",
       "      <td>bob@email.com</td>\n",
       "      <td>2024-01-02</td>\n",
       "      <td>Laptop</td>\n",
       "      <td>Electronics</td>\n",
       "      <td>1200.0</td>\n",
       "      <td>1.0</td>\n",
       "      <td>2024-01-04</td>\n",
       "      <td>5.0</td>\n",
       "      <td>Excellent performance</td>\n",
       "    </tr>\n",
       "    <tr>\n",
       "      <th>9</th>\n",
       "      <td>C003</td>\n",
       "      <td>Bob Wilson</td>\n",
       "      <td>45.0</td>\n",
       "      <td>2023-12-20</td>\n",
       "      <td>USA</td>\n",
       "      <td>bob@email.com</td>\n",
       "      <td>2024-01-04</td>\n",
       "      <td>Phone</td>\n",
       "      <td>Electronics</td>\n",
       "      <td>800.0</td>\n",
       "      <td>3.0</td>\n",
       "      <td>NaN</td>\n",
       "      <td>NaN</td>\n",
       "      <td>NaN</td>\n",
       "    </tr>\n",
       "    <tr>\n",
       "      <th>10</th>\n",
       "      <td>C003</td>\n",
       "      <td>NaN</td>\n",
       "      <td>NaN</td>\n",
       "      <td>NaN</td>\n",
       "      <td>NaN</td>\n",
       "      <td>NaN</td>\n",
       "      <td>NaN</td>\n",
       "      <td>Tablet</td>\n",
       "      <td>NaN</td>\n",
       "      <td>NaN</td>\n",
       "      <td>NaN</td>\n",
       "      <td>2024-01-05</td>\n",
       "      <td>5.0</td>\n",
       "      <td>Very useful</td>\n",
       "    </tr>\n",
       "    <tr>\n",
       "      <th>11</th>\n",
       "      <td>C004</td>\n",
       "      <td>NaN</td>\n",
       "      <td>NaN</td>\n",
       "      <td>NaN</td>\n",
       "      <td>NaN</td>\n",
       "      <td>NaN</td>\n",
       "      <td>NaN</td>\n",
       "      <td>Laptop</td>\n",
       "      <td>NaN</td>\n",
       "      <td>NaN</td>\n",
       "      <td>NaN</td>\n",
       "      <td>2024-01-05</td>\n",
       "      <td>3.0</td>\n",
       "      <td>Average</td>\n",
       "    </tr>\n",
       "    <tr>\n",
       "      <th>12</th>\n",
       "      <td>C004</td>\n",
       "      <td>Alice Brown</td>\n",
       "      <td>35.0</td>\n",
       "      <td>2024-01-01</td>\n",
       "      <td>UK</td>\n",
       "      <td>alice@email.com</td>\n",
       "      <td>2024-01-03</td>\n",
       "      <td>Phone</td>\n",
       "      <td>Electronics</td>\n",
       "      <td>800.0</td>\n",
       "      <td>2.0</td>\n",
       "      <td>NaN</td>\n",
       "      <td>NaN</td>\n",
       "      <td>NaN</td>\n",
       "    </tr>\n",
       "    <tr>\n",
       "      <th>13</th>\n",
       "      <td>C005</td>\n",
       "      <td>Charlie Davis</td>\n",
       "      <td>28.0</td>\n",
       "      <td>2024-01-02</td>\n",
       "      <td>Canada</td>\n",
       "      <td>charlie@email.com</td>\n",
       "      <td>2024-01-04</td>\n",
       "      <td>Laptop</td>\n",
       "      <td>Electronics</td>\n",
       "      <td>1200.0</td>\n",
       "      <td>2.0</td>\n",
       "      <td>NaN</td>\n",
       "      <td>NaN</td>\n",
       "      <td>NaN</td>\n",
       "    </tr>\n",
       "    <tr>\n",
       "      <th>14</th>\n",
       "      <td>C005</td>\n",
       "      <td>NaN</td>\n",
       "      <td>NaN</td>\n",
       "      <td>NaN</td>\n",
       "      <td>NaN</td>\n",
       "      <td>NaN</td>\n",
       "      <td>NaN</td>\n",
       "      <td>Phone</td>\n",
       "      <td>NaN</td>\n",
       "      <td>NaN</td>\n",
       "      <td>NaN</td>\n",
       "      <td>2024-01-06</td>\n",
       "      <td>4.0</td>\n",
       "      <td>Good value</td>\n",
       "    </tr>\n",
       "  </tbody>\n",
       "</table>\n",
       "</div>"
      ],
      "text/plain": [
       "   customer_id           name   age signup_date country              email  \\\n",
       "0         C001     John Smith  25.0  2023-12-01     USA     john@email.com   \n",
       "1         C001            NaN   NaN         NaN     NaN                NaN   \n",
       "2         C001     John Smith  25.0  2023-12-01     USA     john@email.com   \n",
       "3         C001     John Smith  25.0  2023-12-01     USA     john@email.com   \n",
       "4         C002            NaN   NaN         NaN     NaN                NaN   \n",
       "5         C002       Jane Doe  30.0  2023-12-15  Canada     jane@email.com   \n",
       "6         C002       Jane Doe  30.0  2023-12-15  Canada     jane@email.com   \n",
       "7         C002       Jane Doe  30.0  2023-12-15  Canada     jane@email.com   \n",
       "8         C003     Bob Wilson  45.0  2023-12-20     USA      bob@email.com   \n",
       "9         C003     Bob Wilson  45.0  2023-12-20     USA      bob@email.com   \n",
       "10        C003            NaN   NaN         NaN     NaN                NaN   \n",
       "11        C004            NaN   NaN         NaN     NaN                NaN   \n",
       "12        C004    Alice Brown  35.0  2024-01-01      UK    alice@email.com   \n",
       "13        C005  Charlie Davis  28.0  2024-01-02  Canada  charlie@email.com   \n",
       "14        C005            NaN   NaN         NaN     NaN                NaN   \n",
       "\n",
       "          date product     category   price  quantity date_review  rating  \\\n",
       "0   2024-01-01  Laptop  Electronics  1200.0       1.0  2024-01-02     5.0   \n",
       "1          NaN   Phone          NaN     NaN       NaN  2024-01-04     4.0   \n",
       "2   2024-01-02  Tablet  Electronics   500.0       3.0  2024-01-06     3.0   \n",
       "3   2024-01-05  Tablet  Electronics   500.0       2.0  2024-01-06     3.0   \n",
       "4          NaN  Laptop          NaN     NaN       NaN  2024-01-07     5.0   \n",
       "5   2024-01-01   Phone  Electronics   800.0       2.0  2024-01-02     4.0   \n",
       "6   2024-01-05   Phone  Electronics   800.0       1.0  2024-01-02     4.0   \n",
       "7   2024-01-03  Tablet  Electronics   500.0       1.0  2024-01-03     3.0   \n",
       "8   2024-01-02  Laptop  Electronics  1200.0       1.0  2024-01-04     5.0   \n",
       "9   2024-01-04   Phone  Electronics   800.0       3.0         NaN     NaN   \n",
       "10         NaN  Tablet          NaN     NaN       NaN  2024-01-05     5.0   \n",
       "11         NaN  Laptop          NaN     NaN       NaN  2024-01-05     3.0   \n",
       "12  2024-01-03   Phone  Electronics   800.0       2.0         NaN     NaN   \n",
       "13  2024-01-04  Laptop  Electronics  1200.0       2.0         NaN     NaN   \n",
       "14         NaN   Phone          NaN     NaN       NaN  2024-01-06     4.0   \n",
       "\n",
       "              review_text  \n",
       "0           Great laptop!  \n",
       "1           Nice features  \n",
       "2         Could be better  \n",
       "3         Could be better  \n",
       "4                Love it!  \n",
       "5              Good phone  \n",
       "6              Good phone  \n",
       "7           Decent tablet  \n",
       "8   Excellent performance  \n",
       "9                     NaN  \n",
       "10            Very useful  \n",
       "11                Average  \n",
       "12                    NaN  \n",
       "13                    NaN  \n",
       "14             Good value  "
      ]
     },
     "execution_count": 68,
     "metadata": {},
     "output_type": "execute_result"
    }
   ],
   "source": [
    "customer_sales_data = pd.merge(customer_data, sales_data, how='outer', on='customer_id')\n",
    "retail_data  = pd.merge(customer_sales_data, reviews_data, how='outer', on=['customer_id', 'product'], suffixes=['', '_review'])\n",
    "retail_data"
   ]
  },
  {
   "cell_type": "code",
   "execution_count": 69,
   "metadata": {},
   "outputs": [
    {
     "data": {
      "text/html": [
       "<div>\n",
       "<style scoped>\n",
       "    .dataframe tbody tr th:only-of-type {\n",
       "        vertical-align: middle;\n",
       "    }\n",
       "\n",
       "    .dataframe tbody tr th {\n",
       "        vertical-align: top;\n",
       "    }\n",
       "\n",
       "    .dataframe thead th {\n",
       "        text-align: right;\n",
       "    }\n",
       "</style>\n",
       "<table border=\"1\" class=\"dataframe\">\n",
       "  <thead>\n",
       "    <tr style=\"text-align: right;\">\n",
       "      <th></th>\n",
       "      <th>rating</th>\n",
       "      <th>total_sales</th>\n",
       "    </tr>\n",
       "    <tr>\n",
       "      <th>product</th>\n",
       "      <th></th>\n",
       "      <th></th>\n",
       "    </tr>\n",
       "  </thead>\n",
       "  <tbody>\n",
       "    <tr>\n",
       "      <th>Laptop</th>\n",
       "      <td>4.5</td>\n",
       "      <td>4800.0</td>\n",
       "    </tr>\n",
       "    <tr>\n",
       "      <th>Phone</th>\n",
       "      <td>4.0</td>\n",
       "      <td>6400.0</td>\n",
       "    </tr>\n",
       "    <tr>\n",
       "      <th>Tablet</th>\n",
       "      <td>3.5</td>\n",
       "      <td>3000.0</td>\n",
       "    </tr>\n",
       "  </tbody>\n",
       "</table>\n",
       "</div>"
      ],
      "text/plain": [
       "         rating  total_sales\n",
       "product                     \n",
       "Laptop      4.5       4800.0\n",
       "Phone       4.0       6400.0\n",
       "Tablet      3.5       3000.0"
      ]
     },
     "execution_count": 69,
     "metadata": {},
     "output_type": "execute_result"
    }
   ],
   "source": [
    "retail_data['total_sales'] = retail_data['quantity'] * retail_data['price']\n",
    "\n",
    "retail_data.groupby('product').aggregate({'rating': 'mean', 'total_sales': 'sum'})"
   ]
  },
  {
   "cell_type": "code",
   "execution_count": 73,
   "metadata": {},
   "outputs": [
    {
     "data": {
      "text/html": [
       "<div>\n",
       "<style scoped>\n",
       "    .dataframe tbody tr th:only-of-type {\n",
       "        vertical-align: middle;\n",
       "    }\n",
       "\n",
       "    .dataframe tbody tr th {\n",
       "        vertical-align: top;\n",
       "    }\n",
       "\n",
       "    .dataframe thead th {\n",
       "        text-align: right;\n",
       "    }\n",
       "</style>\n",
       "<table border=\"1\" class=\"dataframe\">\n",
       "  <thead>\n",
       "    <tr style=\"text-align: right;\">\n",
       "      <th></th>\n",
       "      <th>customer_id</th>\n",
       "      <th>name</th>\n",
       "      <th>age</th>\n",
       "      <th>signup_date</th>\n",
       "      <th>country</th>\n",
       "      <th>email</th>\n",
       "      <th>date</th>\n",
       "      <th>product</th>\n",
       "      <th>category</th>\n",
       "      <th>price</th>\n",
       "      <th>quantity</th>\n",
       "      <th>date_review</th>\n",
       "      <th>rating</th>\n",
       "      <th>review_text</th>\n",
       "      <th>total_sales</th>\n",
       "    </tr>\n",
       "  </thead>\n",
       "  <tbody>\n",
       "    <tr>\n",
       "      <th>0</th>\n",
       "      <td>C001</td>\n",
       "      <td>John Smith</td>\n",
       "      <td>25.0</td>\n",
       "      <td>2023-12-01</td>\n",
       "      <td>USA</td>\n",
       "      <td>john@email.com</td>\n",
       "      <td>2024-01-01</td>\n",
       "      <td>Laptop</td>\n",
       "      <td>Electronics</td>\n",
       "      <td>1200.0</td>\n",
       "      <td>1.0</td>\n",
       "      <td>2024-01-02</td>\n",
       "      <td>5.0</td>\n",
       "      <td>Great laptop!</td>\n",
       "      <td>1200.0</td>\n",
       "    </tr>\n",
       "  </tbody>\n",
       "</table>\n",
       "</div>"
      ],
      "text/plain": [
       "  customer_id        name   age signup_date country           email  \\\n",
       "0        C001  John Smith  25.0  2023-12-01     USA  john@email.com   \n",
       "\n",
       "         date product     category   price  quantity date_review  rating  \\\n",
       "0  2024-01-01  Laptop  Electronics  1200.0       1.0  2024-01-02     5.0   \n",
       "\n",
       "     review_text  total_sales  \n",
       "0  Great laptop!       1200.0  "
      ]
     },
     "execution_count": 73,
     "metadata": {},
     "output_type": "execute_result"
    }
   ],
   "source": [
    "retail_data.head(1)"
   ]
  },
  {
   "cell_type": "code",
   "execution_count": 72,
   "metadata": {},
   "outputs": [
    {
     "data": {
      "text/plain": [
       "<pandas.core.groupby.generic.DataFrameGroupBy object at 0x128fd9e80>"
      ]
     },
     "execution_count": 72,
     "metadata": {},
     "output_type": "execute_result"
    }
   ],
   "source": [
    "retail_data.groupby('country')"
   ]
  },
  {
   "cell_type": "markdown",
   "metadata": {},
   "source": [
    "#### Time-Based Analysis:\n",
    "\n",
    "- Calculate daily sales totals\n",
    "- Find the number of days between a customer's signup and their first purchase\n",
    "- Create a running total of sales per product"
   ]
  },
  {
   "cell_type": "code",
   "execution_count": 83,
   "metadata": {},
   "outputs": [
    {
     "data": {
      "text/plain": [
       "date\n",
       "2024-01-01    2800\n",
       "2024-01-02    2700\n",
       "2024-01-03    2100\n",
       "2024-01-04    4800\n",
       "2024-01-05    1800\n",
       "dtype: int64"
      ]
     },
     "execution_count": 83,
     "metadata": {},
     "output_type": "execute_result"
    }
   ],
   "source": [
    "sales_data.groupby('date').apply(lambda x: (x['price'] * x['quantity']).sum())"
   ]
  },
  {
   "cell_type": "code",
   "execution_count": 91,
   "metadata": {},
   "outputs": [
    {
     "data": {
      "text/plain": [
       "0    31\n",
       "1    32\n",
       "2    35\n",
       "3    17\n",
       "4    19\n",
       "5    21\n",
       "6    13\n",
       "7    15\n",
       "8     2\n",
       "9     2\n",
       "dtype: int64"
      ]
     },
     "execution_count": 91,
     "metadata": {},
     "output_type": "execute_result"
    }
   ],
   "source": [
    "customer_sales_data = customer_data.merge(sales_data, how='inner', on='customer_id')\n",
    "\n",
    "customer_sales_data['signup_date'] = pd.to_datetime(customer_sales_data['signup_date'])\n",
    "customer_sales_data['date'] = pd.to_datetime(customer_sales_data['date'])\n",
    "\n",
    "(customer_sales_data['date'] - customer_sales_data['signup_date']).dt.days"
   ]
  },
  {
   "cell_type": "code",
   "execution_count": 92,
   "metadata": {},
   "outputs": [
    {
     "data": {
      "text/plain": [
       "0    1200\n",
       "2    2400\n",
       "6    4800\n",
       "1    1600\n",
       "4    3200\n",
       "7    5600\n",
       "9    6400\n",
       "3    1500\n",
       "5    2000\n",
       "8    3000\n",
       "dtype: int64"
      ]
     },
     "execution_count": 92,
     "metadata": {},
     "output_type": "execute_result"
    }
   ],
   "source": [
    "sales_data.groupby('product').apply(\n",
    "    lambda x: (x['price'] * x['quantity']).cumsum()\n",
    ").reset_index(level=0, drop=True)"
   ]
  },
  {
   "cell_type": "markdown",
   "metadata": {},
   "source": [
    "#### Customer Behavior Analysis:\n",
    "\n",
    "- Find customers who made purchases of all three products\n",
    "- Calculate the average time between purchases for each customer\n",
    "- Identify products that are often bought together by the same customer"
   ]
  },
  {
   "cell_type": "code",
   "execution_count": null,
   "metadata": {},
   "outputs": [],
   "source": []
  },
  {
   "cell_type": "markdown",
   "metadata": {},
   "source": [
    "#### Complex Analytics:\n",
    "-  Create a customer segmentation based on:\n",
    "\n",
    "    - Total spend\n",
    "    - Purchase frequency\n",
    "    - Average rating given\n",
    "\n",
    "\n",
    "- Calculate customer lifetime value with a 30-day window\n",
    "- Generate a product recommendation score based on purchase history and ratings"
   ]
  },
  {
   "cell_type": "code",
   "execution_count": null,
   "metadata": {},
   "outputs": [],
   "source": []
  },
  {
   "cell_type": "markdown",
   "metadata": {},
   "source": [
    "#### Text Analysis and Reporting:\n",
    "\n",
    "- Analyze review sentiments (assuming positive words like \"great\", \"excellent\", \"love\" and negative words like \"average\", \"could be better\")\n",
    "- Create a pivot table showing product performance by:\n",
    "    - Sales revenue\n",
    "    - Average rating\n",
    "    - Number of reviews\n",
    "- Generate a customer engagement score based on purchase frequency and review activity"
   ]
  },
  {
   "cell_type": "code",
   "execution_count": null,
   "metadata": {},
   "outputs": [],
   "source": []
  },
  {
   "cell_type": "code",
   "execution_count": null,
   "metadata": {},
   "outputs": [],
   "source": []
  }
 ],
 "metadata": {
  "kernelspec": {
   "display_name": "base",
   "language": "python",
   "name": "python3"
  },
  "language_info": {
   "codemirror_mode": {
    "name": "ipython",
    "version": 3
   },
   "file_extension": ".py",
   "mimetype": "text/x-python",
   "name": "python",
   "nbconvert_exporter": "python",
   "pygments_lexer": "ipython3",
   "version": "3.12.2"
  }
 },
 "nbformat": 4,
 "nbformat_minor": 2
}
